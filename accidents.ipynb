{
 "cells": [
  {
   "cell_type": "markdown",
   "metadata": {},
   "source": [
    "# Frame the Problem\n",
    "\n",
    "### Story\n",
    "The United Kingdom government wants to devote a large portion of funding towards suprressing vehicular accidents. Before they go through with this proposed funding, they want to identify trends in the accident reports to find spots of high accidental occurence. The funding will be used to fix the roads and/or create new, safer road designs.\n",
    "\n",
    "1. Define the objective in business terms. \n",
    "Utilizing the United Kingdom vehicle related accidents dataset, we want to identify causes of accidents for different areas in the UK and determine what spots should the funding be focused to.\n",
    "2. How will your solution be used? \n",
    "Hopefully, by figuring out the locations of high accidents and also determine their causes, we will able to rationalize the funding.\n",
    "3. What are the current solutions/workarounds (if any)? \n",
    "None\n",
    "4. How should you frame this problem (supervised/unsupervised, online/offline, ...)? \n",
    "This will be a supervised, classification offline learning problem.\n",
    "5. How should performance be measured? Is the performance measure aligned with the business objective?\n",
    "To not waste fundings, we would want to be as accurate as possible as this proposal was created in the intent to save lives. Therefore we would want to use precision.\n",
    "6. What would be the minimum performance needed to reach the business objective? \n",
    "Because we want to be extremely accurate, we want to aim for the best performance possible. Based on the score will determine whether or not the funding should be dispersed.\n",
    "7. What are comparable problems? Can you reuse experience or tools?\n",
    "A similar problem would be the bike sharing problem where there was a similar design in the \"hot spots\" and it being a supervised classification itself.\n",
    "8. Is human expertise available?\n",
    "No\n",
    "9. How would you solve the problem manually?\n",
    "I would try and find trends of accidents at specific spots. Perhaps this spot at this time is more prone to there being accidents, maybe this spot has a bad blind spot for vehicles causing more civilian death. I would leave out consumer related information such as the type of vehicles, however still would check to see if specific cause more accidents at certain spots (maybe super cars on highways?). I would also try and see trends in the person information, perhaps deduce whether new laws should be constructed for older drivers to be reexamined. I would also leave out unnecessary data like resulting police force.\n",
    "10.  List the assumptions you (or others) have made so far. Verify assumptions if possible.\n",
    "I assume that weather would be a cause for higher deaths and also time frames for rush hour. I also assume living types such as rural vs city would be much different. Highways would have much more severe accidents.\n"
   ]
  },
  {
   "cell_type": "markdown",
   "metadata": {},
   "source": []
  }
 ],
 "metadata": {
  "language_info": {
   "name": "python"
  },
  "orig_nbformat": 4
 },
 "nbformat": 4,
 "nbformat_minor": 2
}
