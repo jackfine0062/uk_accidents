{
 "cells": [
  {
   "cell_type": "markdown",
   "metadata": {},
   "source": [
    "# Frame the Problem\n",
    "\n",
    "# Story\n",
    "The United Kingdom government wants to devote a large portion of funding towards suprressing vehicular accidents. Before they go through with this proposed funding, they want to identify trends in the accident reports to see what areas of housing should the funding be rationalized out to. \n",
    "\n",
    "\n",
    "1. Define the objective in business terms. \n",
    "Utilizing the United Kingdom vehicle related accidents dataset, we want to to determine the causes of the least and most deaths each year.\n",
    "2. How will your solution be used? \n",
    "Hopefully, by figuring out time frames of heightened vehicle accidents there can be extended efforts to help prevent such high numbers.\n",
    "3. What are the current solutions/workarounds (if any)? \n",
    "None\n",
    "4. How should you frame this problem (supervised/unsupervised, online/offline, ...)? \n",
    "This will be a supervised, classification offline learning problem.\n",
    "5. How should performance be measured? Is the performance measure aligned with the business objective?\n",
    "Because we want to know what timeframes contains the \n",
    "\n",
    "Recall\n",
    "Precision\n",
    "Accuracy\n",
    "F1 Scoring\n",
    "\n",
    "6. What would be the minimum performance needed to reach the business objective? \n",
    "\n",
    "7. What are comparable problems? Can you reuse experience or tools?\n",
    "\n",
    "8. Is human expertise available?\n",
    "\n",
    "9. How would you solve the problem manually?\n",
    "\n",
    "10.  List the assumptions you (or others) have made so far. Verify assumptions if possible.\n"
   ]
  },
  {
   "cell_type": "markdown",
   "metadata": {},
   "source": []
  }
 ],
 "metadata": {
  "language_info": {
   "name": "python"
  },
  "orig_nbformat": 4
 },
 "nbformat": 4,
 "nbformat_minor": 2
}
